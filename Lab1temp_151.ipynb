{
 "cells": [
  {
   "cell_type": "markdown",
   "id": "20c00fa5",
   "metadata": {
    "id": "20c00fa5"
   },
   "source": [
    "## MATH 151 Lab  1"
   ]
  },
  {
   "cell_type": "markdown",
   "id": "7c243ef1",
   "metadata": {
    "id": "7c243ef1"
   },
   "source": [
    "Put team members' names and section number here."
   ]
  },
  {
   "cell_type": "code",
   "execution_count": 2,
   "id": "cf836732",
   "metadata": {
    "id": "cf836732"
   },
   "outputs": [],
   "source": [
    "from sympy import *\n",
    "from sympy.plotting import (plot,plot_parametric)\n",
    "# Team Members: Ayad Masud, Keane Quiambao, Cameron Smith, Aaron Hickerson\n",
    "# Section Number: 502"
   ]
  },
  {
   "cell_type": "markdown",
   "id": "3169990f",
   "metadata": {
    "id": "3169990f"
   },
   "source": [
    "### Question 1"
   ]
  },
  {
   "cell_type": "markdown",
   "id": "f0561a86",
   "metadata": {
    "id": "f0561a86"
   },
   "source": [
    "#### 1a"
   ]
  },
  {
   "cell_type": "code",
   "execution_count": 37,
   "id": "cbfab3f6",
   "metadata": {
    "id": "cbfab3f6"
   },
   "outputs": [
    {
     "data": {
      "text/latex": [
       "$\\displaystyle 0.0336793955667898$"
      ],
      "text/plain": [
       "0.0336793955667898"
      ]
     },
     "execution_count": 37,
     "metadata": {},
     "output_type": "execute_result"
    }
   ],
   "source": [
    "#start code here\n",
    "(4*(log(1.29, 10)+log(11.1))/(2027-12**3)).evalf()"
   ]
  },
  {
   "cell_type": "markdown",
   "id": "efdd616f",
   "metadata": {
    "id": "efdd616f"
   },
   "source": [
    "#### 1b"
   ]
  },
  {
   "cell_type": "code",
   "execution_count": 46,
   "id": "6fd5ac31",
   "metadata": {
    "id": "6fd5ac31"
   },
   "outputs": [
    {
     "name": "stdout",
     "output_type": "stream",
     "text": [
      "-0.866025403784439\n",
      "(sqrt(2)/4 + sqrt(6)/4)*(-sqrt(6)/4 - sqrt(2)/4) + (-sqrt(2)/4 + sqrt(6)/4)**2\n"
     ]
    }
   ],
   "source": [
    "#start code here\n",
    "print((sin((11*pi)/12)*cos(rad(75)) + cos(rad(165)) * sin((5*pi)/12)).evalf())\n",
    "print((sin((11*pi)/12)*cos(rad(75)) + cos(rad(165)) * sin((5*pi)/12)))"
   ]
  },
  {
   "cell_type": "markdown",
   "id": "8b00f000",
   "metadata": {
    "id": "8b00f000"
   },
   "source": [
    "### Question 2"
   ]
  },
  {
   "cell_type": "markdown",
   "id": "bacdc1db",
   "metadata": {
    "id": "bacdc1db"
   },
   "source": [
    "#### 2a"
   ]
  },
  {
   "cell_type": "code",
   "execution_count": 38,
   "id": "be2f2c71",
   "metadata": {
    "id": "be2f2c71"
   },
   "outputs": [
    {
     "data": {
      "text/latex": [
       "$\\displaystyle 0$"
      ],
      "text/plain": [
       "0"
      ]
     },
     "execution_count": 38,
     "metadata": {},
     "output_type": "execute_result"
    }
   ],
   "source": [
    "#start code here\n",
    "x = pi/3\n",
    "sin(x)**2 - 0.5*(1-cos(2*x))"
   ]
  },
  {
   "cell_type": "markdown",
   "id": "23bc68a6",
   "metadata": {
    "id": "23bc68a6"
   },
   "source": [
    "#### 2b"
   ]
  },
  {
   "cell_type": "code",
   "execution_count": 39,
   "id": "357bbf0f",
   "metadata": {
    "id": "357bbf0f"
   },
   "outputs": [
    {
     "name": "stdout",
     "output_type": "stream",
     "text": [
      "0.718557720653514\n",
      "0.718557720653514\n"
     ]
    }
   ],
   "source": [
    "#start code here\n",
    "x = 2.13\n",
    "print(sin(x)**2) \n",
    "print(0.5*(1-cos(2*x)))"
   ]
  },
  {
   "cell_type": "markdown",
   "id": "1fb8b9b8",
   "metadata": {
    "id": "1fb8b9b8"
   },
   "source": [
    "### Question 3"
   ]
  },
  {
   "cell_type": "markdown",
   "id": "ccffd0d0",
   "metadata": {
    "id": "ccffd0d0"
   },
   "source": [
    "#### 3a"
   ]
  },
  {
   "cell_type": "code",
   "execution_count": 17,
   "id": "9ebb9309",
   "metadata": {
    "id": "9ebb9309"
   },
   "outputs": [
    {
     "name": "stdout",
     "output_type": "stream",
     "text": [
      "< 1 , 8 >\n",
      "< 3 , -2 >\n",
      "< 11 , -16 >\n"
     ]
    }
   ],
   "source": [
    "#start code here\n",
    "# vector a\n",
    "a1 = 2\n",
    "a2 = 3\n",
    "\n",
    "#vector b\n",
    "b1 = -1\n",
    "b2 = 5\n",
    "\n",
    "print(\"<\", a1 + b1, \",\", a2 + b2, \">\")\n",
    "print(\"<\", a1 - b1, \",\", a2 - b2, \">\")\n",
    "print(\"<\", 3*a1 - 5*b1, \",\", 3*a2 - 5*b2, \">\")"
   ]
  },
  {
   "cell_type": "markdown",
   "id": "baa2be1a",
   "metadata": {
    "id": "baa2be1a"
   },
   "source": [
    "#### 3b"
   ]
  },
  {
   "cell_type": "code",
   "execution_count": 40,
   "id": "6c67d267",
   "metadata": {
    "id": "6c67d267"
   },
   "outputs": [
    {
     "name": "stdout",
     "output_type": "stream",
     "text": [
      "0.0261739600893094\n"
     ]
    }
   ],
   "source": [
    "#start code here\n",
    "angle = atan(rad(3/2)) \n",
    "print(angle.evalf())"
   ]
  },
  {
   "cell_type": "markdown",
   "id": "sHJbKDWqzL1I",
   "metadata": {
    "id": "sHJbKDWqzL1I"
   },
   "source": [
    "####3c"
   ]
  },
  {
   "cell_type": "code",
   "execution_count": 18,
   "id": "pKJ4Ooa2zL7J",
   "metadata": {
    "id": "pKJ4Ooa2zL7J"
   },
   "outputs": [
    {
     "name": "stdout",
     "output_type": "stream",
     "text": [
      "< 11*sqrt(377)/377 , -16*sqrt(377)/377 >\n"
     ]
    }
   ],
   "source": [
    "# vector\n",
    "v1 = 11\n",
    "v2 = -16\n",
    "\n",
    "unit1 = 11/sqrt((v1**2) + (v2**2))\n",
    "unit2 = -16/sqrt((v1**2) + (v2**2))\n",
    "print(\"<\", unit1, \",\", unit2, \">\")"
   ]
  },
  {
   "cell_type": "markdown",
   "id": "U86ZufGjzOeQ",
   "metadata": {
    "id": "U86ZufGjzOeQ"
   },
   "source": [
    "###Question 4"
   ]
  },
  {
   "cell_type": "markdown",
   "id": "lYrLhfBmzXoQ",
   "metadata": {
    "id": "lYrLhfBmzXoQ"
   },
   "source": [
    "####4a"
   ]
  },
  {
   "cell_type": "code",
   "execution_count": 3,
   "id": "DOUrj2e3zQG3",
   "metadata": {
    "id": "DOUrj2e3zQG3"
   },
   "outputs": [
    {
     "name": "stdout",
     "output_type": "stream",
     "text": [
      "The exact magnitude of the force vector is:  sqrt(106)\n",
      "The approximate magnitude of the force vector is:  10.2956301409870\n"
     ]
    }
   ],
   "source": [
    "print(\"The exact magnitude of the force vector is:\", sqrt(5 ** 2 + 9 ** 2))\n",
    "print(\"The approximate magnitude of the force vector is:\", sqrt(5 ** 2 + 9 ** 2).evalf())"
   ]
  },
  {
   "cell_type": "markdown",
   "id": "YCGNHWLZzYx5",
   "metadata": {
    "id": "YCGNHWLZzYx5"
   },
   "source": [
    "####4b"
   ]
  },
  {
   "cell_type": "code",
   "execution_count": 4,
   "id": "p9coou8ezY4Q",
   "metadata": {
    "id": "p9coou8ezY4Q"
   },
   "outputs": [
    {
     "name": "stdout",
     "output_type": "stream",
     "text": [
      "The displacement vector is: < 2 , 6 >\n"
     ]
    }
   ],
   "source": [
    "x1 = 3\n",
    "y1 = 4\n",
    "x2 = 5\n",
    "y2 = 10\n",
    "print(f'The displacement vector is: < {x2 - x1} , {y2 - y1} >')"
   ]
  },
  {
   "cell_type": "markdown",
   "id": "wzlRpwd-zZCA",
   "metadata": {
    "id": "wzlRpwd-zZCA"
   },
   "source": [
    "####4c"
   ]
  },
  {
   "cell_type": "code",
   "execution_count": 5,
   "id": "DYOt7EyJzZH4",
   "metadata": {
    "id": "DYOt7EyJzZH4"
   },
   "outputs": [
    {
     "name": "stdout",
     "output_type": "stream",
     "text": [
      "The exact magnitude of the displacement vector is:  2*sqrt(10)\n",
      "The approximate magnitude of the displacement vector is:  6.32455532033676\n"
     ]
    }
   ],
   "source": [
    "x1 = 3\n",
    "y1 = 4\n",
    "x2 = 5\n",
    "y2 = 10\n",
    "distance = sqrt(((x2 - x1) ** 2)+((y2 - y1) ** 2))\n",
    "print(\"The exact magnitude of the displacement vector is:\", distance)\n",
    "print(\"The approximate magnitude of the displacement vector is:\", distance.evalf())"
   ]
  },
  {
   "cell_type": "markdown",
   "id": "p3Lyo9iizZQJ",
   "metadata": {
    "id": "p3Lyo9iizZQJ"
   },
   "source": [
    "####4d"
   ]
  },
  {
   "cell_type": "code",
   "execution_count": 6,
   "id": "Yy7WHSiyzZUz",
   "metadata": {
    "id": "Yy7WHSiyzZUz"
   },
   "outputs": [
    {
     "name": "stdout",
     "output_type": "stream",
     "text": [
      "The exact amount of work done is:  2*sqrt(754)\n",
      "The approximate amount of work done is:  54.9181208709839\n"
     ]
    }
   ],
   "source": [
    "x1 = 5\n",
    "y1 = 9\n",
    "x2 = 2\n",
    "y2 = 6\n",
    "print(\"The exact amount of work done is:\", sqrt((x1 * x2) ** 2 + (y1 * y2) ** 2))\n",
    "print(\"The approximate amount of work done is:\", sqrt((x1 * x2) ** 2 + (y1 * y2) ** 2).evalf())"
   ]
  },
  {
   "cell_type": "markdown",
   "id": "K7YPoMa-zZbU",
   "metadata": {
    "id": "K7YPoMa-zZbU"
   },
   "source": [
    "####4e"
   ]
  },
  {
   "cell_type": "code",
   "execution_count": 8,
   "id": "g7WQcaUEzZfg",
   "metadata": {
    "id": "g7WQcaUEzZfg"
   },
   "outputs": [
    {
     "name": "stdout",
     "output_type": "stream",
     "text": [
      "Cosine of the angle between the two vectors: 16*sqrt(265)/265\n"
     ]
    }
   ],
   "source": [
    "x1 = 5\n",
    "y1 = 9\n",
    "x2 = 2\n",
    "y2 = 6\n",
    "dot_prod = (x1 * x2) + (y1 * y2)\n",
    "mag_force = sqrt(5 ** 2 + 9 ** 2)\n",
    "mag_displacement = sqrt((2 ** 2) + (6 ** 2))\n",
    "\n",
    "print(\"Cosine of the angle between the two vectors:\", dot_prod / (mag_force * mag_displacement))"
   ]
  },
  {
   "cell_type": "markdown",
   "id": "HU6wtKJszZlq",
   "metadata": {
    "id": "HU6wtKJszZlq"
   },
   "source": [
    "####4f"
   ]
  },
  {
   "cell_type": "code",
   "execution_count": 9,
   "id": "gm3NH1u4zZqB",
   "metadata": {
    "id": "gm3NH1u4zZqB"
   },
   "outputs": [
    {
     "name": "stdout",
     "output_type": "stream",
     "text": [
      "Angle between the two vectors is: 0.185347949995695\n"
     ]
    }
   ],
   "source": [
    "x1 = 5\n",
    "y1 = 9\n",
    "x2 = 2\n",
    "y2 = 6\n",
    "dot_prod = (x1 * x2) + (y1 * y2)\n",
    "mag_force = sqrt(5 ** 2 + 9 ** 2)\n",
    "mag_displacement = sqrt((2 ** 2) + (6 ** 2))\n",
    "\n",
    "print(\"Angle between the two vectors is:\", acos(dot_prod / (mag_force * mag_displacement)).evalf())"
   ]
  }
 ],
 "metadata": {
  "colab": {
   "provenance": [
    {
     "file_id": "1sdqFHr7OZkOfZYmu7TXNx3UVH4W-VZVt",
     "timestamp": 1674438958218
    }
   ]
  },
  "kernelspec": {
   "display_name": "Python 3 (ipykernel)",
   "language": "python",
   "name": "python3"
  },
  "language_info": {
   "codemirror_mode": {
    "name": "ipython",
    "version": 3
   },
   "file_extension": ".py",
   "mimetype": "text/x-python",
   "name": "python",
   "nbconvert_exporter": "python",
   "pygments_lexer": "ipython3",
   "version": "3.10.9"
  }
 },
 "nbformat": 4,
 "nbformat_minor": 5
}
