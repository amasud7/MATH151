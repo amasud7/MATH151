{
 "cells": [
  {
   "cell_type": "markdown",
   "id": "20c00fa5",
   "metadata": {
    "id": "20c00fa5"
   },
   "source": [
    "## MATH 151 Lab  5"
   ]
  },
  {
   "cell_type": "markdown",
   "id": "7c243ef1",
   "metadata": {
    "id": "7c243ef1"
   },
   "source": [
    "Put team members' names and section number here."
   ]
  },
  {
   "cell_type": "code",
   "execution_count": 1,
   "id": "cf836732",
   "metadata": {
    "id": "cf836732"
   },
   "outputs": [],
   "source": [
    "# Group Members: Ayad, Cameron, Aaron, Keane\n",
    "# Section Number: 502\n",
    "from sympy import *\n",
    "from sympy.plotting import (plot,plot_parametric)"
   ]
  },
  {
   "cell_type": "markdown",
   "id": "3169990f",
   "metadata": {
    "id": "3169990f"
   },
   "source": [
    "### Question 1"
   ]
  },
  {
   "cell_type": "markdown",
   "id": "f0561a86",
   "metadata": {
    "id": "f0561a86"
   },
   "source": [
    "#### 1a"
   ]
  },
  {
   "cell_type": "code",
   "execution_count": 2,
   "id": "cbfab3f6",
   "metadata": {
    "id": "cbfab3f6"
   },
   "outputs": [
    {
     "name": "stdout",
     "output_type": "stream",
     "text": [
      "These values of k are solutions to the differential equation: [-5/2, 5/2]\n"
     ]
    }
   ],
   "source": [
    "#start code here\n",
    "t, k = symbols('t k')\n",
    "y = cos(t*k)\n",
    "d2y = diff(y, t ,2)\n",
    "eq = 4*d2y + 25*y\n",
    "val = solve(eq, k)\n",
    "print(f\"These values of k are solutions to the differential equation: {val[0:2]}\")"
   ]
  },
  {
   "cell_type": "markdown",
   "id": "efdd616f",
   "metadata": {
    "id": "efdd616f"
   },
   "source": [
    "#### 1b"
   ]
  },
  {
   "cell_type": "code",
   "execution_count": 3,
   "id": "6fd5ac31",
   "metadata": {
    "id": "6fd5ac31"
   },
   "outputs": [
    {
     "name": "stdout",
     "output_type": "stream",
     "text": [
      "0\n",
      "0\n"
     ]
    }
   ],
   "source": [
    "#start code here\n",
    "A, B = symbols('A B')\n",
    "\n",
    "# -5/2\n",
    "y = A*sin(val[0]*t) + B*cos(val[0]*t)\n",
    "d2y = diff(y, t, 2)\n",
    "eq = 4*d2y + 25*y\n",
    "print(eq.simplify())\n",
    "\n",
    "# 5/2\n",
    "y = A*sin(val[1]*t) + B*cos(val[1]*t)\n",
    "d2y = diff(y, t, 2)\n",
    "eq = 4*d2y + 25*y\n",
    "print(eq.simplify())"
   ]
  },
  {
   "cell_type": "markdown",
   "id": "8b00f000",
   "metadata": {
    "id": "8b00f000"
   },
   "source": [
    "### Question 2"
   ]
  },
  {
   "cell_type": "markdown",
   "id": "bacdc1db",
   "metadata": {
    "id": "bacdc1db"
   },
   "source": [
    "#### 2a"
   ]
  },
  {
   "cell_type": "code",
   "execution_count": 4,
   "id": "be2f2c71",
   "metadata": {
    "id": "be2f2c71"
   },
   "outputs": [
    {
     "name": "stdout",
     "output_type": "stream",
     "text": [
      "The derivative is: (x**2 - 4*y)/(4*x - y**2)\n"
     ]
    }
   ],
   "source": [
    "#start code here\n",
    "x, y = symbols('x y')\n",
    "lhs = x**3 + y**3\n",
    "rhs = 12*x*y\n",
    "dydx = idiff(lhs - rhs, y, x)\n",
    "print(f\"The derivative is: {dydx}\")"
   ]
  },
  {
   "cell_type": "markdown",
   "id": "23bc68a6",
   "metadata": {
    "id": "23bc68a6"
   },
   "source": [
    "#### 2b"
   ]
  },
  {
   "cell_type": "code",
   "execution_count": 5,
   "id": "357bbf0f",
   "metadata": {
    "id": "357bbf0f"
   },
   "outputs": [
    {
     "name": "stdout",
     "output_type": "stream",
     "text": [
      "This is when the function has a horizontal tangent: [(0, 0), (4*2**(1/3), 4*2**(2/3))]\n"
     ]
    }
   ],
   "source": [
    "#start code here\n",
    "hTan = solve([lhs-rhs, x**2-4*y], [x, y])\n",
    "print(f\"This is when the function has a horizontal tangent: {hTan[0:2]}\")"
   ]
  },
  {
   "cell_type": "markdown",
   "id": "Y-UU7VcEOPSc",
   "metadata": {
    "id": "Y-UU7VcEOPSc"
   },
   "source": [
    "#### 2c"
   ]
  },
  {
   "cell_type": "code",
   "execution_count": 6,
   "id": "rMpWKB2yOPY9",
   "metadata": {
    "id": "rMpWKB2yOPY9"
   },
   "outputs": [
    {
     "name": "stdout",
     "output_type": "stream",
     "text": [
      "This is when the function has a vertical tangent: [(0, 0), (4*2**(2/3), 4*2**(1/3))]\n"
     ]
    }
   ],
   "source": [
    "#start code here\n",
    "vTan = solve([lhs-rhs, 4*x - y**2], [x, y])\n",
    "print(f\"This is when the function has a vertical tangent: {vTan[0:2]}\")"
   ]
  },
  {
   "cell_type": "markdown",
   "id": "WL6WzWP_a17V",
   "metadata": {
    "id": "WL6WzWP_a17V"
   },
   "source": [
    "#### 2d"
   ]
  },
  {
   "cell_type": "code",
   "execution_count": 7,
   "id": "NGy1_DAoa2D6",
   "metadata": {
    "id": "NGy1_DAoa2D6"
   },
   "outputs": [
    {
     "data": {
      "image/png": "[encoded data removed]",
      "text/plain": [
       "<Figure size 640x480 with 1 Axes>"
      ]
     },
     "metadata": {},
     "output_type": "display_data"
    }
   ],
   "source": [
    "p1 = plot_implicit(lhs-rhs, (x,-7.5,7.5), (y,-7.5,7.5), show=false)\n",
    "p2a = plot((0), (x,-7.5,7.5), (y,-7.5,7.5), show=false)\n",
    "p2b = plot(((4*2**(2/3))), (x,-7.5,7.5), (y,-7.5,7.5), show=false)\n",
    "p3a = plot_parametric(0, y, (x,-7.5,7.5), (y,-7.5,7.5), show=false)\n",
    "p3b = plot_parametric((4*2**(2/3)), y, (x,-7.5,7.5), (y,-7.5,7.5), show=false)\n",
    "\n",
    "\n",
    "p1.extend(p2a)\n",
    "p1.extend(p2b)\n",
    "p1.extend(p3a)\n",
    "p1.extend(p3b)\n",
    "p1.show()"
   ]
  },
  {
   "cell_type": "markdown",
   "id": "1fb8b9b8",
   "metadata": {
    "id": "1fb8b9b8"
   },
   "source": [
    "### Question 3"
   ]
  },
  {
   "cell_type": "markdown",
   "id": "ccffd0d0",
   "metadata": {
    "id": "ccffd0d0"
   },
   "source": [
    "#### 3a"
   ]
  },
  {
   "cell_type": "code",
   "execution_count": 8,
   "id": "9ebb9309",
   "metadata": {
    "id": "9ebb9309"
   },
   "outputs": [
    {
     "name": "stdout",
     "output_type": "stream",
     "text": [
      "This is the simplified log: (1 - x**2)*log(x + 3) + 2*log(x)\n"
     ]
    }
   ],
   "source": [
    "#start code here\n",
    "y = x**2 * (3+x)**(1-x**2)\n",
    "simpLog = expand_log(log(y), force= True)\n",
    "print(f\"This is the simplified log: {simpLog}\")"
   ]
  },
  {
   "cell_type": "markdown",
   "id": "fe9124f0",
   "metadata": {},
   "source": [
    "#### 3b"
   ]
  },
  {
   "cell_type": "code",
   "execution_count": 9,
   "id": "e3ce770f",
   "metadata": {},
   "outputs": [
    {
     "name": "stdout",
     "output_type": "stream",
     "text": [
      "This is the derivative of the log: -2*x*log(x + 3) + (1 - x**2)/(x + 3) + 2/x\n"
     ]
    }
   ],
   "source": [
    "#start code here\n",
    "dlog = diff(simpLog, x)\n",
    "print(f\"This is the derivative of the log: {dlog}\")"
   ]
  },
  {
   "cell_type": "markdown",
   "id": "285d9dfd",
   "metadata": {},
   "source": [
    "#### 3c"
   ]
  },
  {
   "cell_type": "code",
   "execution_count": 10,
   "id": "5387ad0c",
   "metadata": {},
   "outputs": [
    {
     "name": "stdout",
     "output_type": "stream",
     "text": [
      "The derivative of y is: x**2*(x + 3)**(1 - x**2)*(-2*x*log(x + 3) + (1 - x**2)/(x + 3) + 2/x)\n"
     ]
    }
   ],
   "source": [
    "#start code here\n",
    "# derivative * y\n",
    "derivY = dlog * y\n",
    "print(f\"The derivative of y is: {derivY}\")"
   ]
  },
  {
   "cell_type": "markdown",
   "id": "48b56ee7",
   "metadata": {},
   "source": [
    "#### 3d"
   ]
  },
  {
   "cell_type": "code",
   "execution_count": 11,
   "id": "6593b2b4",
   "metadata": {},
   "outputs": [
    {
     "name": "stdout",
     "output_type": "stream",
     "text": [
      "The derivative by directly using diff function: x**2*(x + 3)**(1 - x**2)*(-2*x*log(x + 3) + (1 - x**2)/(x + 3))*(-2*x*log(x + 3) + (1 - x**2)/(x + 3) + 2/x) + x**2*(x + 3)**(1 - x**2)*(-4*x/(x + 3) - (1 - x**2)/(x + 3)**2 - 2*log(x + 3) - 2/x**2) + 2*x*(x + 3)**(1 - x**2)*(-2*x*log(x + 3) + (1 - x**2)/(x + 3) + 2/x)\n"
     ]
    }
   ],
   "source": [
    "#start code here\n",
    "# from previous part just do diff(result)\n",
    "diffY = diff(derivY)\n",
    "print(f\"The derivative by directly using diff function: {diffY}\")"
   ]
  }
 ],
 "metadata": {
  "colab": {
   "provenance": [
    {
     "file_id": "1sdqFHr7OZkOfZYmu7TXNx3UVH4W-VZVt",
     "timestamp": 1674438958218
    }
   ]
  },
  "kernelspec": {
   "display_name": "Python 3 (ipykernel)",
   "language": "python",
   "name": "python3"
  },
  "language_info": {
   "codemirror_mode": {
    "name": "ipython",
    "version": 3
   },
   "file_extension": ".py",
   "mimetype": "text/x-python",
   "name": "python",
   "nbconvert_exporter": "python",
   "pygments_lexer": "ipython3",
   "version": "3.11.4"
  }
 },
 "nbformat": 4,
 "nbformat_minor": 5
}
