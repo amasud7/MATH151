{
 "cells": [
  {
   "cell_type": "markdown",
   "id": "20c00fa5",
   "metadata": {},
   "source": [
    "## MATH 151 Lab 9"
   ]
  },
  {
   "cell_type": "markdown",
   "id": "7c243ef1",
   "metadata": {},
   "source": [
    "Put team members' names and section number here."
   ]
  },
  {
   "cell_type": "code",
   "execution_count": 1,
   "id": "2276b737",
   "metadata": {},
   "outputs": [],
   "source": [
    "from sympy import *\n",
    "from sympy.plotting import (plot,plot_parametric)"
   ]
  },
  {
   "cell_type": "markdown",
   "id": "dccee95d",
   "metadata": {},
   "source": [
    "### Question 1"
   ]
  },
  {
   "cell_type": "markdown",
   "id": "f83eae05",
   "metadata": {},
   "source": [
    "#### 1a"
   ]
  },
  {
   "cell_type": "code",
   "execution_count": 2,
   "id": "06306ce5",
   "metadata": {},
   "outputs": [
    {
     "name": "stdout",
     "output_type": "stream",
     "text": [
      "This is the f function: log(1 + 16/x) and this is the g function 1/(2*x)\n"
     ]
    }
   ],
   "source": [
    "x = symbols('x')\n",
    "f = log(1+16/x)\n",
    "g = 1/(2*x)\n",
    "print(f\"This is the f function: {f} and this is the g function {g}\")"
   ]
  },
  {
   "cell_type": "markdown",
   "id": "b5ed0668",
   "metadata": {},
   "source": [
    "#### 1b"
   ]
  },
  {
   "cell_type": "code",
   "execution_count": 6,
   "id": "c66fb3f0",
   "metadata": {},
   "outputs": [
    {
     "name": "stdout",
     "output_type": "stream",
     "text": [
      "Limit of f to infinity: 0\n",
      "Limit of g to infinity: 0\n"
     ]
    }
   ],
   "source": [
    "flim = limit(f, x, oo)\n",
    "glim = limit(g, x, oo)\n",
    "print(f\"Limit of f to infinity: {flim}\")\n",
    "print(f\"Limit of g to infinity: {glim}\") # limits evaluate to 0/0 so we can use lhopitals."
   ]
  },
  {
   "cell_type": "markdown",
   "id": "142cb09a",
   "metadata": {},
   "source": [
    "#### 1c"
   ]
  },
  {
   "cell_type": "code",
   "execution_count": 11,
   "id": "e7783255",
   "metadata": {},
   "outputs": [
    {
     "name": "stdout",
     "output_type": "stream",
     "text": [
      "The limit of f/g is 0/0, so we can use lhopitals rule.\n",
      "Derivative of f is -16/(x**2*(1 + 16/x)) and dervative of g is -1/(2*x**2)\n",
      "The limit of f/g after using lhopitals rule is: exp(32)\n"
     ]
    }
   ],
   "source": [
    "df = diff(f, x) # differentiating each function\n",
    "dg = diff(g, x)\n",
    "hexp = df/dg\n",
    "lnlim = limit(hexp, x, oo)\n",
    "ylim = exp(lnlim)\n",
    "print(f\"The limit of f/g is 0/0, so we can use lhopitals rule.\")\n",
    "print(f\"Derivative of f is {df} and dervative of g is {dg}\")\n",
    "print(f\"The limit of f/g after using lhopitals rule is: {ylim}\")"
   ]
  },
  {
   "cell_type": "markdown",
   "id": "81e1eea6",
   "metadata": {},
   "source": [
    "#### 1d"
   ]
  },
  {
   "cell_type": "code",
   "execution_count": 14,
   "id": "36c3e65d",
   "metadata": {},
   "outputs": [
    {
     "name": "stdout",
     "output_type": "stream",
     "text": [
      "This is computing the limit using limit function directly: exp(32) and is the same result we got using lhopitals rule\n"
     ]
    }
   ],
   "source": [
    "y = (1+16/x)**(2*x)\n",
    "directLim = limit(y, x, oo)\n",
    "print(f\"This is computing the limit using limit function directly: {directLim} and is the same result we got using lhopitals rule\")"
   ]
  },
  {
   "cell_type": "markdown",
   "id": "46a2250a",
   "metadata": {},
   "source": [
    "### Question 2"
   ]
  },
  {
   "cell_type": "markdown",
   "id": "859727b7",
   "metadata": {},
   "source": [
    "#### 2a"
   ]
  },
  {
   "cell_type": "code",
   "execution_count": 22,
   "id": "709b2e6f",
   "metadata": {},
   "outputs": [
    {
     "name": "stdout",
     "output_type": "stream",
     "text": [
      "List of critical numbers: [-pi/3, pi/3]\n",
      "The optimum value of theta is 1.04719755119660\n"
     ]
    }
   ],
   "source": [
    "theta = symbols('theta')\n",
    "A = 100*sin(theta) + 100*sin(theta)*cos(theta)\n",
    "\n",
    "dA = diff(A, theta)\n",
    "sols = solve(dA, theta)\n",
    "print(f\"List of critical numbers: {sols}\")\n",
    "optimTheta = sols[1]\n",
    "print(f\"The optimum value of theta is {optimTheta.evalf()}\")"
   ]
  },
  {
   "cell_type": "markdown",
   "id": "4cad579b",
   "metadata": {},
   "source": [
    "#### 2b"
   ]
  },
  {
   "cell_type": "code",
   "execution_count": 28,
   "id": "ed15acf0",
   "metadata": {},
   "outputs": [
    {
     "name": "stdout",
     "output_type": "stream",
     "text": [
      "pi/3 is the max value because: -150*sqrt(3) <-- this is negative\n"
     ]
    }
   ],
   "source": [
    "d2A = diff(dA, theta)\n",
    "print(f\"{optimTheta} is the max value because: {d2A.subs(theta, optimTheta)} <-- this is negative\")"
   ]
  },
  {
   "cell_type": "markdown",
   "id": "d4dc1f42",
   "metadata": {},
   "source": [
    "### Question 3"
   ]
  },
  {
   "cell_type": "markdown",
   "id": "17570c6c",
   "metadata": {},
   "source": [
    "#### 3a"
   ]
  },
  {
   "cell_type": "code",
   "execution_count": 41,
   "id": "09090072",
   "metadata": {},
   "outputs": [
    {
     "name": "stdout",
     "output_type": "stream",
     "text": [
      "The final equation is 7*x - 4*log(x + 1) + 9\n"
     ]
    }
   ],
   "source": [
    "x, C, D = symbols('x C D')\n",
    "d2f = 4/(x+1)**2\n",
    "df = integrate(d2f, x) + C\n",
    "\n",
    "Cval = solve(df.subs(x, 0)-3, C)\n",
    "df = df.subs(C, Cval[0])\n",
    "\n",
    "\n",
    "f = integrate(df, x) + D\n",
    "Dval = solve(f.subs(x,0)-9, D)\n",
    "f = f.subs(D, Dval[0])\n",
    "\n",
    "print(f\"The final equation is {f}\")"
   ]
  },
  {
   "cell_type": "markdown",
   "id": "951ad982",
   "metadata": {},
   "source": [
    "#### 3b"
   ]
  },
  {
   "cell_type": "code",
   "execution_count": 38,
   "id": "885c06df",
   "metadata": {},
   "outputs": [
    {
     "name": "stdout",
     "output_type": "stream",
     "text": [
      "C*x + D - 4*log(x + 1)\n",
      "These are the C and D values: {C: -4*log(2)/3 + 4*log(5)/3, D: -4*log(5)/3 + 16*log(2)/3 + 10}\n",
      "The final equation is: (-4*log(2)/3 + 4*log(5)/3)*x + -4*log(5)/3 + 16*log(2)/3 + 10 - 4*log(x+1)\n"
     ]
    }
   ],
   "source": [
    "x, C, D = symbols('x C D')\n",
    "d2f = 4/(x+1)**2\n",
    "df = integrate(d2f, x) + C\n",
    "f = integrate(df, x) + D\n",
    "print(f)\n",
    "\n",
    "eq1 = f.subs(x, 1) - 10\n",
    "eq2 = f.subs(x, 4) - 10\n",
    "\n",
    "sols = solve([eq1, eq2], [C, D])\n",
    "print(f\"These are the C and D values: {sols}\")\n",
    "print(f\"The final equation is: ({sols[C]})*x + {sols[D]} - 4*log(x+1)\")"
   ]
  }
 ],
 "metadata": {
  "kernelspec": {
   "display_name": "Python 3 (ipykernel)",
   "language": "python",
   "name": "python3"
  },
  "language_info": {
   "codemirror_mode": {
    "name": "ipython",
    "version": 3
   },
   "file_extension": ".py",
   "mimetype": "text/x-python",
   "name": "python",
   "nbconvert_exporter": "python",
   "pygments_lexer": "ipython3",
   "version": "3.11.4"
  }
 },
 "nbformat": 4,
 "nbformat_minor": 5
}
